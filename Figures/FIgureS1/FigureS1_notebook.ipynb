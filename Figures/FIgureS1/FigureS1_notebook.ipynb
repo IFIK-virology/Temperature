{
 "cells": [
  {
   "cell_type": "code",
   "execution_count": 1,
   "metadata": {},
   "outputs": [],
   "source": [
    "import numpy as np\n",
    "import pandas as pd\n",
    "import matplotlib.pyplot as plt\n",
    "import seaborn as sns\n",
    "import os"
   ]
  },
  {
   "cell_type": "code",
   "execution_count": 2,
   "metadata": {},
   "outputs": [
    {
     "data": {
      "image/png": "[encoded data removed]",
      "text/plain": [
       "<Figure size 144x72 with 1 Axes>"
      ]
     },
     "metadata": {
      "needs_background": "light"
     },
     "output_type": "display_data"
    }
   ],
   "source": [
    "custcol = [\"#7570b3\", \"#d95f02\"]\n",
    "sns.palplot(sns.color_palette(custcol))"
   ]
  },
  {
   "cell_type": "code",
   "execution_count": 3,
   "metadata": {},
   "outputs": [],
   "source": [
    "datapath = \"./\"\n",
    "file_to_open = datapath + \"FigureS1_raw_data.txt\"\n",
    "\n",
    "# print(os.path.realpath(file_to_open))\n"
   ]
  },
  {
   "cell_type": "code",
   "execution_count": 4,
   "metadata": {},
   "outputs": [],
   "source": [
    "data0 = pd.read_csv(file_to_open, sep = \"\\t\", header = 0)"
   ]
  },
  {
   "cell_type": "code",
   "execution_count": 5,
   "metadata": {},
   "outputs": [
    {
     "data": {
      "text/html": [
       "<div>\n",
       "<style scoped>\n",
       "    .dataframe tbody tr th:only-of-type {\n",
       "        vertical-align: middle;\n",
       "    }\n",
       "\n",
       "    .dataframe tbody tr th {\n",
       "        vertical-align: top;\n",
       "    }\n",
       "\n",
       "    .dataframe thead th {\n",
       "        text-align: right;\n",
       "    }\n",
       "</style>\n",
       "<table border=\"1\" class=\"dataframe\">\n",
       "  <thead>\n",
       "    <tr style=\"text-align: right;\">\n",
       "      <th></th>\n",
       "      <th>hpi</th>\n",
       "      <th>virus</th>\n",
       "      <th>temperature</th>\n",
       "      <th>donor</th>\n",
       "      <th>replicate</th>\n",
       "      <th>titer</th>\n",
       "    </tr>\n",
       "  </thead>\n",
       "  <tbody>\n",
       "    <tr>\n",
       "      <th>0</th>\n",
       "      <td>48</td>\n",
       "      <td>mock</td>\n",
       "      <td>33</td>\n",
       "      <td>1</td>\n",
       "      <td>1</td>\n",
       "      <td>1</td>\n",
       "    </tr>\n",
       "    <tr>\n",
       "      <th>1</th>\n",
       "      <td>48</td>\n",
       "      <td>mock</td>\n",
       "      <td>33</td>\n",
       "      <td>2</td>\n",
       "      <td>1</td>\n",
       "      <td>1</td>\n",
       "    </tr>\n",
       "    <tr>\n",
       "      <th>2</th>\n",
       "      <td>48</td>\n",
       "      <td>mock</td>\n",
       "      <td>33</td>\n",
       "      <td>3</td>\n",
       "      <td>1</td>\n",
       "      <td>1</td>\n",
       "    </tr>\n",
       "    <tr>\n",
       "      <th>3</th>\n",
       "      <td>48</td>\n",
       "      <td>mock</td>\n",
       "      <td>33</td>\n",
       "      <td>1</td>\n",
       "      <td>2</td>\n",
       "      <td>1</td>\n",
       "    </tr>\n",
       "    <tr>\n",
       "      <th>4</th>\n",
       "      <td>48</td>\n",
       "      <td>mock</td>\n",
       "      <td>33</td>\n",
       "      <td>2</td>\n",
       "      <td>2</td>\n",
       "      <td>1</td>\n",
       "    </tr>\n",
       "    <tr>\n",
       "      <th>...</th>\n",
       "      <td>...</td>\n",
       "      <td>...</td>\n",
       "      <td>...</td>\n",
       "      <td>...</td>\n",
       "      <td>...</td>\n",
       "      <td>...</td>\n",
       "    </tr>\n",
       "    <tr>\n",
       "      <th>103</th>\n",
       "      <td>96</td>\n",
       "      <td>SARS-2</td>\n",
       "      <td>37</td>\n",
       "      <td>2</td>\n",
       "      <td>1</td>\n",
       "      <td>1</td>\n",
       "    </tr>\n",
       "    <tr>\n",
       "      <th>104</th>\n",
       "      <td>96</td>\n",
       "      <td>SARS-2</td>\n",
       "      <td>37</td>\n",
       "      <td>3</td>\n",
       "      <td>1</td>\n",
       "      <td>1</td>\n",
       "    </tr>\n",
       "    <tr>\n",
       "      <th>105</th>\n",
       "      <td>96</td>\n",
       "      <td>SARS-2</td>\n",
       "      <td>37</td>\n",
       "      <td>1</td>\n",
       "      <td>2</td>\n",
       "      <td>1</td>\n",
       "    </tr>\n",
       "    <tr>\n",
       "      <th>106</th>\n",
       "      <td>96</td>\n",
       "      <td>SARS-2</td>\n",
       "      <td>37</td>\n",
       "      <td>2</td>\n",
       "      <td>2</td>\n",
       "      <td>1</td>\n",
       "    </tr>\n",
       "    <tr>\n",
       "      <th>107</th>\n",
       "      <td>96</td>\n",
       "      <td>SARS-2</td>\n",
       "      <td>37</td>\n",
       "      <td>3</td>\n",
       "      <td>2</td>\n",
       "      <td>1</td>\n",
       "    </tr>\n",
       "  </tbody>\n",
       "</table>\n",
       "<p>108 rows × 6 columns</p>\n",
       "</div>"
      ],
      "text/plain": [
       "     hpi   virus  temperature  donor  replicate  titer\n",
       "0     48    mock           33      1          1      1\n",
       "1     48    mock           33      2          1      1\n",
       "2     48    mock           33      3          1      1\n",
       "3     48    mock           33      1          2      1\n",
       "4     48    mock           33      2          2      1\n",
       "..   ...     ...          ...    ...        ...    ...\n",
       "103   96  SARS-2           37      2          1      1\n",
       "104   96  SARS-2           37      3          1      1\n",
       "105   96  SARS-2           37      1          2      1\n",
       "106   96  SARS-2           37      2          2      1\n",
       "107   96  SARS-2           37      3          2      1\n",
       "\n",
       "[108 rows x 6 columns]"
      ]
     },
     "execution_count": 5,
     "metadata": {},
     "output_type": "execute_result"
    }
   ],
   "source": [
    "data0"
   ]
  },
  {
   "cell_type": "code",
   "execution_count": 6,
   "metadata": {},
   "outputs": [],
   "source": [
    "data0[\"titer\"] = np.log10(data0['titer'])"
   ]
  },
  {
   "cell_type": "code",
   "execution_count": 7,
   "metadata": {},
   "outputs": [],
   "source": [
    "data1 = data0.groupby([\"hpi\", \"temperature\", \"virus\", \"donor\"]).mean().reset_index()"
   ]
  },
  {
   "cell_type": "code",
   "execution_count": 8,
   "metadata": {},
   "outputs": [],
   "source": [
    "t33 = data1.loc[data1[\"temperature\"]==33]\n",
    "t37 = data1.loc[data1[\"temperature\"]==37]"
   ]
  },
  {
   "cell_type": "code",
   "execution_count": 9,
   "metadata": {},
   "outputs": [
    {
     "data": {
      "image/png": "[encoded data removed]",
      "text/plain": [
       "<Figure size 432x288 with 1 Axes>"
      ]
     },
     "metadata": {
      "needs_background": "light"
     },
     "output_type": "display_data"
    }
   ],
   "source": [
    "fig, ax = plt.subplots()\n",
    "g = sns.barplot(data= t33.loc[t33[\"virus\"] != \"mock\"],\n",
    "                x='hpi',\n",
    "                y='titer', \n",
    "                hue=\"virus\",\n",
    "                palette = sns.color_palette(custcol),\n",
    "                linewidth=1,\n",
    "                edgecolor = \"black\",\n",
    "                capsize=.2,\n",
    "                errcolor = \"black\",\n",
    "                errwidth=2,\n",
    "                 )\n",
    "\n",
    "g1 = sns.swarmplot(data= t33.loc[t33[\"virus\"] != \"mock\"],\n",
    "                x='hpi',\n",
    "                y='titer', \n",
    "                hue=\"virus\",\n",
    "                dodge = True, \n",
    "                palette = sns.color_palette(custcol),\n",
    "                size = 10,\n",
    "                linewidth=1,\n",
    "                edgecolor = \"black\",\n",
    "                alpha = 0.8,\n",
    "                )\n",
    "\n",
    "plt.yscale(\"linear\")\n",
    "plt.ylim([0,6])\n",
    "plt.title(\"33°C\")\n",
    "plt.ylabel(\"Log10 PFU/ml\",size=\"large\")\n",
    "plt.xlabel(\"hours post infection\",size=\"large\")\n",
    "plt.legend(loc=\"upper left\", bbox_to_anchor=(1,1), frameon=False)\n",
    "\n",
    "sns.despine()\n",
    "\n",
    "plt.savefig('FigureS1b.pdf', bbox_inches = 'tight')"
   ]
  },
  {
   "cell_type": "code",
   "execution_count": 10,
   "metadata": {},
   "outputs": [
    {
     "data": {
      "image/png": "[encoded data removed]",
      "text/plain": [
       "<Figure size 432x288 with 1 Axes>"
      ]
     },
     "metadata": {
      "needs_background": "light"
     },
     "output_type": "display_data"
    }
   ],
   "source": [
    "fig, ax = plt.subplots()\n",
    "g = sns.barplot(data= t37.loc[t37[\"virus\"] != \"mock\"],\n",
    "                x='hpi',\n",
    "                y='titer', \n",
    "                hue=\"virus\",\n",
    "                palette = sns.color_palette(custcol),\n",
    "                linewidth=1,\n",
    "                edgecolor = \"black\",\n",
    "                capsize=.2,\n",
    "                errcolor = \"black\",\n",
    "                errwidth=2,\n",
    "                 )\n",
    "\n",
    "g1 = sns.swarmplot(data= t37.loc[t37[\"virus\"] != \"mock\"],\n",
    "                x='hpi',\n",
    "                y='titer', \n",
    "                hue=\"virus\",\n",
    "                dodge = True, \n",
    "                palette = sns.color_palette(custcol),\n",
    "                size = 10,\n",
    "                linewidth=1,\n",
    "                edgecolor = \"black\",\n",
    "                alpha = 0.8,\n",
    "                )\n",
    "\n",
    "plt.yscale(\"linear\")\n",
    "plt.ylim([0,6])\n",
    "plt.title(\"37°C\")\n",
    "plt.ylabel(\"Log10 PFU/ml\",size=\"large\")\n",
    "plt.xlabel(\"hours post infection\",size=\"large\")\n",
    "plt.legend(loc=\"upper left\", bbox_to_anchor=(1,1), frameon=False)\n",
    "\n",
    "sns.despine()\n",
    "\n",
    "plt.savefig('FigureS1a.pdf', bbox_inches = 'tight')"
   ]
  }
 ],
 "metadata": {
  "kernelspec": {
   "display_name": "Python 3",
   "language": "python",
   "name": "python3"
  },
  "language_info": {
   "codemirror_mode": {
    "name": "ipython",
    "version": 3
   },
   "file_extension": ".py",
   "mimetype": "text/x-python",
   "name": "python",
   "nbconvert_exporter": "python",
   "pygments_lexer": "ipython3",
   "version": "3.7.8"
  }
 },
 "nbformat": 4,
 "nbformat_minor": 2
}
